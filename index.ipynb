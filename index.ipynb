{
 "cells": [
  {
   "cell_type": "code",
   "execution_count": 190,
   "metadata": {},
   "outputs": [
    {
     "data": {
      "text/html": [
       "<div>\n",
       "<style scoped>\n",
       "    .dataframe tbody tr th:only-of-type {\n",
       "        vertical-align: middle;\n",
       "    }\n",
       "\n",
       "    .dataframe tbody tr th {\n",
       "        vertical-align: top;\n",
       "    }\n",
       "\n",
       "    .dataframe thead th {\n",
       "        text-align: right;\n",
       "    }\n",
       "</style>\n",
       "<table border=\"1\" class=\"dataframe\">\n",
       "  <thead>\n",
       "    <tr style=\"text-align: right;\">\n",
       "      <th></th>\n",
       "      <th>LastName</th>\n",
       "      <th>FirstName</th>\n",
       "      <th>Gender</th>\n",
       "      <th>Country</th>\n",
       "      <th>Date</th>\n",
       "      <th>Competition</th>\n",
       "      <th>Round</th>\n",
       "      <th>Location</th>\n",
       "      <th>Apparatus</th>\n",
       "      <th>Rank</th>\n",
       "      <th>D_Score</th>\n",
       "      <th>E_Score</th>\n",
       "      <th>Penalty</th>\n",
       "      <th>Score</th>\n",
       "    </tr>\n",
       "  </thead>\n",
       "  <tbody>\n",
       "    <tr>\n",
       "      <th>0</th>\n",
       "      <td>AAS</td>\n",
       "      <td>Fredrik</td>\n",
       "      <td>m</td>\n",
       "      <td>NOR</td>\n",
       "      <td>24-27 Feb 2022</td>\n",
       "      <td>2022 Cottbus World Cup</td>\n",
       "      <td>qual</td>\n",
       "      <td>Cottbus, Germany</td>\n",
       "      <td>HB</td>\n",
       "      <td>18.0</td>\n",
       "      <td>3.9</td>\n",
       "      <td>8.266</td>\n",
       "      <td>NaN</td>\n",
       "      <td>12.166</td>\n",
       "    </tr>\n",
       "    <tr>\n",
       "      <th>1</th>\n",
       "      <td>AAS</td>\n",
       "      <td>Fredrik</td>\n",
       "      <td>m</td>\n",
       "      <td>NOR</td>\n",
       "      <td>24-27 Feb 2022</td>\n",
       "      <td>2022 Cottbus World Cup</td>\n",
       "      <td>qual</td>\n",
       "      <td>Cottbus, Germany</td>\n",
       "      <td>PB</td>\n",
       "      <td>23.0</td>\n",
       "      <td>3.9</td>\n",
       "      <td>6.900</td>\n",
       "      <td>NaN</td>\n",
       "      <td>10.800</td>\n",
       "    </tr>\n",
       "    <tr>\n",
       "      <th>2</th>\n",
       "      <td>AAS</td>\n",
       "      <td>Fredrik</td>\n",
       "      <td>m</td>\n",
       "      <td>NOR</td>\n",
       "      <td>24-27 Feb 2022</td>\n",
       "      <td>2022 Cottbus World Cup</td>\n",
       "      <td>qual</td>\n",
       "      <td>Cottbus, Germany</td>\n",
       "      <td>PH</td>\n",
       "      <td>33.0</td>\n",
       "      <td>4.2</td>\n",
       "      <td>6.666</td>\n",
       "      <td>NaN</td>\n",
       "      <td>10.866</td>\n",
       "    </tr>\n",
       "    <tr>\n",
       "      <th>3</th>\n",
       "      <td>AAS</td>\n",
       "      <td>Fredrik</td>\n",
       "      <td>m</td>\n",
       "      <td>NOR</td>\n",
       "      <td>23-26 Feb 2023</td>\n",
       "      <td>2023 Cottbus World Cup</td>\n",
       "      <td>qual</td>\n",
       "      <td>Cottbus, Germany</td>\n",
       "      <td>HB</td>\n",
       "      <td>39.0</td>\n",
       "      <td>4.6</td>\n",
       "      <td>6.700</td>\n",
       "      <td>NaN</td>\n",
       "      <td>11.300</td>\n",
       "    </tr>\n",
       "    <tr>\n",
       "      <th>4</th>\n",
       "      <td>AAS</td>\n",
       "      <td>Fredrik</td>\n",
       "      <td>m</td>\n",
       "      <td>NOR</td>\n",
       "      <td>23-26 Feb 2023</td>\n",
       "      <td>2023 Cottbus World Cup</td>\n",
       "      <td>qual</td>\n",
       "      <td>Cottbus, Germany</td>\n",
       "      <td>PH</td>\n",
       "      <td>44.0</td>\n",
       "      <td>4.4</td>\n",
       "      <td>7.800</td>\n",
       "      <td>NaN</td>\n",
       "      <td>12.200</td>\n",
       "    </tr>\n",
       "    <tr>\n",
       "      <th>...</th>\n",
       "      <td>...</td>\n",
       "      <td>...</td>\n",
       "      <td>...</td>\n",
       "      <td>...</td>\n",
       "      <td>...</td>\n",
       "      <td>...</td>\n",
       "      <td>...</td>\n",
       "      <td>...</td>\n",
       "      <td>...</td>\n",
       "      <td>...</td>\n",
       "      <td>...</td>\n",
       "      <td>...</td>\n",
       "      <td>...</td>\n",
       "      <td>...</td>\n",
       "    </tr>\n",
       "    <tr>\n",
       "      <th>24429</th>\n",
       "      <td>ÖNDER</td>\n",
       "      <td>Ahmet</td>\n",
       "      <td>m</td>\n",
       "      <td>TUR</td>\n",
       "      <td>1-4 Jun 2023</td>\n",
       "      <td>2023 Tel Aviv World Challenge Cup</td>\n",
       "      <td>final</td>\n",
       "      <td>Tel Aviv, Israel</td>\n",
       "      <td>FX</td>\n",
       "      <td>8.0</td>\n",
       "      <td>4.8</td>\n",
       "      <td>7.050</td>\n",
       "      <td>NaN</td>\n",
       "      <td>11.850</td>\n",
       "    </tr>\n",
       "    <tr>\n",
       "      <th>24430</th>\n",
       "      <td>ÖNDER</td>\n",
       "      <td>Ahmet</td>\n",
       "      <td>m</td>\n",
       "      <td>TUR</td>\n",
       "      <td>1-4 Jun 2023</td>\n",
       "      <td>2023 Tel Aviv World Challenge Cup</td>\n",
       "      <td>qual</td>\n",
       "      <td>Tel Aviv, Israel</td>\n",
       "      <td>FX</td>\n",
       "      <td>3.0</td>\n",
       "      <td>5.8</td>\n",
       "      <td>7.950</td>\n",
       "      <td>0.1</td>\n",
       "      <td>13.650</td>\n",
       "    </tr>\n",
       "    <tr>\n",
       "      <th>24431</th>\n",
       "      <td>ÖNDER</td>\n",
       "      <td>Ahmet</td>\n",
       "      <td>m</td>\n",
       "      <td>TUR</td>\n",
       "      <td>1-4 Jun 2023</td>\n",
       "      <td>2023 Tel Aviv World Challenge Cup</td>\n",
       "      <td>qual</td>\n",
       "      <td>Tel Aviv, Israel</td>\n",
       "      <td>HB</td>\n",
       "      <td>10.0</td>\n",
       "      <td>5.0</td>\n",
       "      <td>6.250</td>\n",
       "      <td>NaN</td>\n",
       "      <td>11.250</td>\n",
       "    </tr>\n",
       "    <tr>\n",
       "      <th>24432</th>\n",
       "      <td>ÖNDER</td>\n",
       "      <td>Ahmet</td>\n",
       "      <td>m</td>\n",
       "      <td>TUR</td>\n",
       "      <td>1-4 Jun 2023</td>\n",
       "      <td>2023 Tel Aviv World Challenge Cup</td>\n",
       "      <td>final</td>\n",
       "      <td>Tel Aviv, Israel</td>\n",
       "      <td>PB</td>\n",
       "      <td>1.0</td>\n",
       "      <td>6.3</td>\n",
       "      <td>8.050</td>\n",
       "      <td>NaN</td>\n",
       "      <td>14.350</td>\n",
       "    </tr>\n",
       "    <tr>\n",
       "      <th>24433</th>\n",
       "      <td>ÖNDER</td>\n",
       "      <td>Ahmet</td>\n",
       "      <td>m</td>\n",
       "      <td>TUR</td>\n",
       "      <td>1-4 Jun 2023</td>\n",
       "      <td>2023 Tel Aviv World Challenge Cup</td>\n",
       "      <td>qual</td>\n",
       "      <td>Tel Aviv, Israel</td>\n",
       "      <td>PB</td>\n",
       "      <td>8.0</td>\n",
       "      <td>6.0</td>\n",
       "      <td>7.400</td>\n",
       "      <td>NaN</td>\n",
       "      <td>13.400</td>\n",
       "    </tr>\n",
       "  </tbody>\n",
       "</table>\n",
       "<p>24434 rows × 14 columns</p>\n",
       "</div>"
      ],
      "text/plain": [
       "      LastName FirstName Gender Country            Date  \\\n",
       "0          AAS   Fredrik      m     NOR  24-27 Feb 2022   \n",
       "1          AAS   Fredrik      m     NOR  24-27 Feb 2022   \n",
       "2          AAS   Fredrik      m     NOR  24-27 Feb 2022   \n",
       "3          AAS   Fredrik      m     NOR  23-26 Feb 2023   \n",
       "4          AAS   Fredrik      m     NOR  23-26 Feb 2023   \n",
       "...        ...       ...    ...     ...             ...   \n",
       "24429    ÖNDER     Ahmet      m     TUR    1-4 Jun 2023   \n",
       "24430    ÖNDER     Ahmet      m     TUR    1-4 Jun 2023   \n",
       "24431    ÖNDER     Ahmet      m     TUR    1-4 Jun 2023   \n",
       "24432    ÖNDER     Ahmet      m     TUR    1-4 Jun 2023   \n",
       "24433    ÖNDER     Ahmet      m     TUR    1-4 Jun 2023   \n",
       "\n",
       "                             Competition  Round          Location Apparatus  \\\n",
       "0                 2022 Cottbus World Cup   qual  Cottbus, Germany        HB   \n",
       "1                 2022 Cottbus World Cup   qual  Cottbus, Germany        PB   \n",
       "2                 2022 Cottbus World Cup   qual  Cottbus, Germany        PH   \n",
       "3                 2023 Cottbus World Cup   qual  Cottbus, Germany        HB   \n",
       "4                 2023 Cottbus World Cup   qual  Cottbus, Germany        PH   \n",
       "...                                  ...    ...               ...       ...   \n",
       "24429  2023 Tel Aviv World Challenge Cup  final  Tel Aviv, Israel        FX   \n",
       "24430  2023 Tel Aviv World Challenge Cup   qual  Tel Aviv, Israel        FX   \n",
       "24431  2023 Tel Aviv World Challenge Cup   qual  Tel Aviv, Israel        HB   \n",
       "24432  2023 Tel Aviv World Challenge Cup  final  Tel Aviv, Israel        PB   \n",
       "24433  2023 Tel Aviv World Challenge Cup   qual  Tel Aviv, Israel        PB   \n",
       "\n",
       "       Rank  D_Score  E_Score  Penalty   Score  \n",
       "0      18.0      3.9    8.266      NaN  12.166  \n",
       "1      23.0      3.9    6.900      NaN  10.800  \n",
       "2      33.0      4.2    6.666      NaN  10.866  \n",
       "3      39.0      4.6    6.700      NaN  11.300  \n",
       "4      44.0      4.4    7.800      NaN  12.200  \n",
       "...     ...      ...      ...      ...     ...  \n",
       "24429   8.0      4.8    7.050      NaN  11.850  \n",
       "24430   3.0      5.8    7.950      0.1  13.650  \n",
       "24431  10.0      5.0    6.250      NaN  11.250  \n",
       "24432   1.0      6.3    8.050      NaN  14.350  \n",
       "24433   8.0      6.0    7.400      NaN  13.400  \n",
       "\n",
       "[24434 rows x 14 columns]"
      ]
     },
     "execution_count": 190,
     "metadata": {},
     "output_type": "execute_result"
    }
   ],
   "source": [
    "import pandas as pd\n",
    "import sqlite3\n",
    "df = pd.read_csv(\"data_2022_2023.csv\")\n",
    "df\n"
   ]
  },
  {
   "cell_type": "code",
   "execution_count": 191,
   "metadata": {},
   "outputs": [],
   "source": [
    "df.dropna(inplace=True, subset=[ 'Apparatus', 'Score', 'Country', 'D_Score', \"E_Score\"])\n",
    "df.loc[df['Apparatus'] == 'VT1', 'Apparatus'] = 'VT'\n",
    "df.loc[df['Apparatus'] == 'VT2', 'Apparatus'] = 'VT'\n"
   ]
  },
  {
   "cell_type": "code",
   "execution_count": 192,
   "metadata": {},
   "outputs": [],
   "source": [
    "with sqlite3.connect(\"gym\") as conn:\n",
    "    df.to_sql(\"gym\", conn, if_exists = \"replace\", index = False) \n",
    "    "
   ]
  },
  {
   "cell_type": "code",
   "execution_count": 193,
   "metadata": {},
   "outputs": [
    {
     "name": "stdout",
     "output_type": "stream",
     "text": [
      "      LastName FirstName Gender Country            Date  \\\n",
      "0          AAS   Fredrik      m     NOR  24-27 Feb 2022   \n",
      "1          AAS   Fredrik      m     NOR  24-27 Feb 2022   \n",
      "2          AAS   Fredrik      m     NOR  24-27 Feb 2022   \n",
      "3          AAS   Fredrik      m     NOR  23-26 Feb 2023   \n",
      "4          AAS   Fredrik      m     NOR  23-26 Feb 2023   \n",
      "...        ...       ...    ...     ...             ...   \n",
      "24429    ÖNDER     Ahmet      m     TUR    1-4 Jun 2023   \n",
      "24430    ÖNDER     Ahmet      m     TUR    1-4 Jun 2023   \n",
      "24431    ÖNDER     Ahmet      m     TUR    1-4 Jun 2023   \n",
      "24432    ÖNDER     Ahmet      m     TUR    1-4 Jun 2023   \n",
      "24433    ÖNDER     Ahmet      m     TUR    1-4 Jun 2023   \n",
      "\n",
      "                             Competition  Round          Location Apparatus  \\\n",
      "0                 2022 Cottbus World Cup   qual  Cottbus, Germany        HB   \n",
      "1                 2022 Cottbus World Cup   qual  Cottbus, Germany        PB   \n",
      "2                 2022 Cottbus World Cup   qual  Cottbus, Germany        PH   \n",
      "3                 2023 Cottbus World Cup   qual  Cottbus, Germany        HB   \n",
      "4                 2023 Cottbus World Cup   qual  Cottbus, Germany        PH   \n",
      "...                                  ...    ...               ...       ...   \n",
      "24429  2023 Tel Aviv World Challenge Cup  final  Tel Aviv, Israel        FX   \n",
      "24430  2023 Tel Aviv World Challenge Cup   qual  Tel Aviv, Israel        FX   \n",
      "24431  2023 Tel Aviv World Challenge Cup   qual  Tel Aviv, Israel        HB   \n",
      "24432  2023 Tel Aviv World Challenge Cup  final  Tel Aviv, Israel        PB   \n",
      "24433  2023 Tel Aviv World Challenge Cup   qual  Tel Aviv, Israel        PB   \n",
      "\n",
      "       Rank  D_Score  E_Score  Penalty   Score  \n",
      "0      18.0      3.9    8.266      NaN  12.166  \n",
      "1      23.0      3.9    6.900      NaN  10.800  \n",
      "2      33.0      4.2    6.666      NaN  10.866  \n",
      "3      39.0      4.6    6.700      NaN  11.300  \n",
      "4      44.0      4.4    7.800      NaN  12.200  \n",
      "...     ...      ...      ...      ...     ...  \n",
      "24429   8.0      4.8    7.050      NaN  11.850  \n",
      "24430   3.0      5.8    7.950      0.1  13.650  \n",
      "24431  10.0      5.0    6.250      NaN  11.250  \n",
      "24432   1.0      6.3    8.050      NaN  14.350  \n",
      "24433   8.0      6.0    7.400      NaN  13.400  \n",
      "\n",
      "[24434 rows x 14 columns]\n"
     ]
    }
   ],
   "source": [
    "with sqlite3.connect(\"gym\") as conn:\n",
    "    cmd = \\\n",
    "    \"\"\"\n",
    "    SELECT * FROM gym\n",
    "    \"\"\"\n",
    "    sql = pd.read_sql_query(cmd, conn)\n",
    "    print(sql)"
   ]
  },
  {
   "cell_type": "code",
   "execution_count": null,
   "metadata": {},
   "outputs": [],
   "source": [
    "def query_gym_database(country ):\n",
    "    with sqlite3.connect('gym') as conn:\n",
    "        cmd = \\\n",
    "        f'''\n",
    "SELECT LastName, FirstName, Apparatus, AVG(Score) AS PredictedScore, MAX(Score) as Maxscore, \n",
    "SQRT(AVG(score * score) - AVG(score) * AVG(score)) AS StdDevScore,\n",
    "COUNT(DISTINCT Date) AS CompetitionsCount\n",
    "FROM gym \n",
    "WHERE Country = '{country}'\n",
    "GROUP BY LastName, FirstName, Apparatus \n",
    "ORDER BY Apparatus, Maxscore DESC\n",
    "        '''\n",
    "    df = pd.read_sql_query(cmd, conn)\n",
    "    return (df)\n",
    "\n",
    "df = query_gym_database(country=\"NOR\")"
   ]
  },
  {
   "cell_type": "code",
   "execution_count": 208,
   "metadata": {},
   "outputs": [
    {
     "data": {
      "application/vnd.plotly.v1+json": {
       "config": {
        "plotlyServerURL": "https://plot.ly"
       },
       "data": [
        {
         "hovertemplate": "LastName=TRONRUD<br>Apparatus=%{x}<br>PredictedScore=%{y}<br>CompetitionsCount=%{marker.size}<extra></extra>",
         "legendgroup": "TRONRUD",
         "marker": {
          "color": "#636efa",
          "size": [
           10,
           6,
           9,
           10
          ],
          "sizemode": "area",
          "sizeref": 0.025,
          "symbol": "circle"
         },
         "mode": "markers",
         "name": "TRONRUD",
         "orientation": "v",
         "showlegend": true,
         "type": "scatter",
         "x": [
          "BB",
          "FX",
          "UB",
          "VT"
         ],
         "xaxis": "x",
         "y": [
          12.333,
          11.375714285714285,
          12.007272727272726,
          12.447333333333333
         ],
         "yaxis": "y"
        },
        {
         "hovertemplate": "LastName=MADSØ<br>Apparatus=%{x}<br>PredictedScore=%{y}<br>CompetitionsCount=%{marker.size}<extra></extra>",
         "legendgroup": "MADSØ",
         "marker": {
          "color": "#EF553B",
          "size": [
           2,
           2,
           2
          ],
          "sizemode": "area",
          "sizeref": 0.025,
          "symbol": "circle"
         },
         "mode": "markers",
         "name": "MADSØ",
         "orientation": "v",
         "showlegend": true,
         "type": "scatter",
         "x": [
          "BB",
          "FX",
          "UB"
         ],
         "xaxis": "x",
         "y": [
          12.249749999999999,
          11.925,
          11.9915
         ],
         "yaxis": "y"
        },
        {
         "hovertemplate": "LastName=NEURAUTER<br>Apparatus=%{x}<br>PredictedScore=%{y}<br>CompetitionsCount=%{marker.size}<extra></extra>",
         "legendgroup": "NEURAUTER",
         "marker": {
          "color": "#00cc96",
          "size": [
           4,
           2,
           5,
           4
          ],
          "sizemode": "area",
          "sizeref": 0.025,
          "symbol": "circle"
         },
         "mode": "markers",
         "name": "NEURAUTER",
         "orientation": "v",
         "showlegend": true,
         "type": "scatter",
         "x": [
          "BB",
          "FX",
          "UB",
          "VT"
         ],
         "xaxis": "x",
         "y": [
          11.50775,
          11.658,
          10.719800000000001,
          11.976875
         ],
         "yaxis": "y"
        },
        {
         "hovertemplate": "LastName=ROENBECK<br>Apparatus=%{x}<br>PredictedScore=%{y}<br>CompetitionsCount=%{marker.size}<extra></extra>",
         "legendgroup": "ROENBECK",
         "marker": {
          "color": "#ab63fa",
          "size": [
           4,
           4,
           1,
           1
          ],
          "sizemode": "area",
          "sizeref": 0.025,
          "symbol": "circle"
         },
         "mode": "markers",
         "name": "ROENBECK",
         "orientation": "v",
         "showlegend": true,
         "type": "scatter",
         "x": [
          "BB",
          "FX",
          "UB",
          "VT"
         ],
         "xaxis": "x",
         "y": [
          11.319799999999999,
          11.6664,
          11.466,
          12.5
         ],
         "yaxis": "y"
        },
        {
         "hovertemplate": "LastName=KANTER<br>Apparatus=%{x}<br>PredictedScore=%{y}<br>CompetitionsCount=%{marker.size}<extra></extra>",
         "legendgroup": "KANTER",
         "marker": {
          "color": "#FFA15A",
          "size": [
           7,
           4,
           6,
           2
          ],
          "sizemode": "area",
          "sizeref": 0.025,
          "symbol": "circle"
         },
         "mode": "markers",
         "name": "KANTER",
         "orientation": "v",
         "showlegend": true,
         "type": "scatter",
         "x": [
          "BB",
          "FX",
          "UB",
          "VT"
         ],
         "xaxis": "x",
         "y": [
          11.445500000000001,
          11.979600000000001,
          11.58542857142857,
          12.2665
         ],
         "yaxis": "y"
        },
        {
         "hovertemplate": "LastName=TØSSEBRO<br>Apparatus=%{x}<br>PredictedScore=%{y}<br>CompetitionsCount=%{marker.size}<extra></extra>",
         "legendgroup": "TØSSEBRO",
         "marker": {
          "color": "#19d3f3",
          "size": [
           2,
           2,
           1
          ],
          "sizemode": "area",
          "sizeref": 0.025,
          "symbol": "circle"
         },
         "mode": "markers",
         "name": "TØSSEBRO",
         "orientation": "v",
         "showlegend": true,
         "type": "scatter",
         "x": [
          "BB",
          "FX",
          "UB"
         ],
         "xaxis": "x",
         "y": [
          12.05,
          11.258,
          10.266
         ],
         "yaxis": "y"
        },
        {
         "hovertemplate": "LastName=TOESSEBRO<br>Apparatus=%{x}<br>PredictedScore=%{y}<br>CompetitionsCount=%{marker.size}<extra></extra>",
         "legendgroup": "TOESSEBRO",
         "marker": {
          "color": "#FF6692",
          "size": [
           3,
           3,
           2,
           3
          ],
          "sizemode": "area",
          "sizeref": 0.025,
          "symbol": "circle"
         },
         "mode": "markers",
         "name": "TOESSEBRO",
         "orientation": "v",
         "showlegend": true,
         "type": "scatter",
         "x": [
          "BB",
          "FX",
          "UB",
          "VT"
         ],
         "xaxis": "x",
         "y": [
          11.388666666666666,
          11.466333333333333,
          11.283,
          12.0915
         ],
         "yaxis": "y"
        },
        {
         "hovertemplate": "LastName=MADSOE<br>Apparatus=%{x}<br>PredictedScore=%{y}<br>CompetitionsCount=%{marker.size}<extra></extra>",
         "legendgroup": "MADSOE",
         "marker": {
          "color": "#B6E880",
          "size": [
           1,
           1,
           1,
           1
          ],
          "sizemode": "area",
          "sizeref": 0.025,
          "symbol": "circle"
         },
         "mode": "markers",
         "name": "MADSOE",
         "orientation": "v",
         "showlegend": true,
         "type": "scatter",
         "x": [
          "BB",
          "FX",
          "UB",
          "VT"
         ],
         "xaxis": "x",
         "y": [
          11.566,
          11.133,
          10.8,
          12.933
         ],
         "yaxis": "y"
        },
        {
         "hovertemplate": "LastName=HALVORSEN<br>Apparatus=%{x}<br>PredictedScore=%{y}<br>CompetitionsCount=%{marker.size}<extra></extra>",
         "legendgroup": "HALVORSEN",
         "marker": {
          "color": "#FF97FF",
          "size": [
           1,
           3,
           3,
           3
          ],
          "sizemode": "area",
          "sizeref": 0.025,
          "symbol": "circle"
         },
         "mode": "markers",
         "name": "HALVORSEN",
         "orientation": "v",
         "showlegend": true,
         "type": "scatter",
         "x": [
          "BB",
          "FX",
          "UB",
          "VT"
         ],
         "xaxis": "x",
         "y": [
          9.9,
          10.866333333333335,
          11.355333333333334,
          12.107111111111111
         ],
         "yaxis": "y"
        },
        {
         "hovertemplate": "LastName=SKOGVANG<br>Apparatus=%{x}<br>PredictedScore=%{y}<br>CompetitionsCount=%{marker.size}<extra></extra>",
         "legendgroup": "SKOGVANG",
         "marker": {
          "color": "#FECB52",
          "size": [
           4,
           1,
           3,
           1,
           3,
           2,
           1,
           1,
           1
          ],
          "sizemode": "area",
          "sizeref": 0.025,
          "symbol": "circle"
         },
         "mode": "markers",
         "name": "SKOGVANG",
         "orientation": "v",
         "showlegend": true,
         "type": "scatter",
         "x": [
          "FX",
          "FX",
          "HB",
          "HB",
          "PH",
          "SR",
          "SR",
          "VT",
          "VT"
         ],
         "xaxis": "x",
         "y": [
          13.108,
          12.933,
          12.077333333333334,
          12.566,
          10.755333333333333,
          12.208,
          12.1,
          14,
          13.366
         ],
         "yaxis": "y"
        },
        {
         "hovertemplate": "LastName=SYVERHUSET<br>Apparatus=%{x}<br>PredictedScore=%{y}<br>CompetitionsCount=%{marker.size}<extra></extra>",
         "legendgroup": "SYVERHUSET",
         "marker": {
          "color": "#636efa",
          "size": [
           2,
           1
          ],
          "sizemode": "area",
          "sizeref": 0.025,
          "symbol": "circle"
         },
         "mode": "markers",
         "name": "SYVERHUSET",
         "orientation": "v",
         "showlegend": true,
         "type": "scatter",
         "x": [
          "FX",
          "SR"
         ],
         "xaxis": "x",
         "y": [
          13.2495,
          11
         ],
         "yaxis": "y"
        },
        {
         "hovertemplate": "LastName=HEGGEMSNES<br>Apparatus=%{x}<br>PredictedScore=%{y}<br>CompetitionsCount=%{marker.size}<extra></extra>",
         "legendgroup": "HEGGEMSNES",
         "marker": {
          "color": "#EF553B",
          "size": [
           5,
           5,
           4,
           4,
           4,
           4
          ],
          "sizemode": "area",
          "sizeref": 0.025,
          "symbol": "circle"
         },
         "mode": "markers",
         "name": "HEGGEMSNES",
         "orientation": "v",
         "showlegend": true,
         "type": "scatter",
         "x": [
          "FX",
          "HB",
          "PB",
          "PH",
          "SR",
          "VT"
         ],
         "xaxis": "x",
         "y": [
          13.168714285714286,
          13.120111111111111,
          13.466333333333333,
          12.249833333333333,
          13.083,
          14.216500000000002
         ],
         "yaxis": "y"
        },
        {
         "hovertemplate": "LastName=WIBYE<br>Apparatus=%{x}<br>PredictedScore=%{y}<br>CompetitionsCount=%{marker.size}<extra></extra>",
         "legendgroup": "WIBYE",
         "marker": {
          "color": "#00cc96",
          "size": [
           5,
           5,
           5,
           4,
           4,
           5
          ],
          "sizemode": "area",
          "sizeref": 0.025,
          "symbol": "circle"
         },
         "mode": "markers",
         "name": "WIBYE",
         "orientation": "v",
         "showlegend": true,
         "type": "scatter",
         "x": [
          "FX",
          "HB",
          "PB",
          "PH",
          "SR",
          "VT"
         ],
         "xaxis": "x",
         "y": [
          12.7562,
          12.8464,
          13.539599999999998,
          12.07475,
          12.708,
          13.895142857142858
         ],
         "yaxis": "y"
        },
        {
         "hovertemplate": "LastName=KARLSEN<br>Apparatus=%{x}<br>PredictedScore=%{y}<br>CompetitionsCount=%{marker.size}<extra></extra>",
         "legendgroup": "KARLSEN",
         "marker": {
          "color": "#ab63fa",
          "size": [
           2,
           2,
           2,
           2,
           3,
           2
          ],
          "sizemode": "area",
          "sizeref": 0.025,
          "symbol": "circle"
         },
         "mode": "markers",
         "name": "KARLSEN",
         "orientation": "v",
         "showlegend": true,
         "type": "scatter",
         "x": [
          "FX",
          "HB",
          "PB",
          "PH",
          "SR",
          "VT"
         ],
         "xaxis": "x",
         "y": [
          13.1665,
          12.4665,
          11.216000000000001,
          10.9665,
          12.921999999999999,
          14.033
         ],
         "yaxis": "y"
        },
        {
         "hovertemplate": "LastName=STENE<br>Apparatus=%{x}<br>PredictedScore=%{y}<br>CompetitionsCount=%{marker.size}<extra></extra>",
         "legendgroup": "STENE",
         "marker": {
          "color": "#FFA15A",
          "size": [
           2,
           2,
           2,
           2,
           1
          ],
          "sizemode": "area",
          "sizeref": 0.025,
          "symbol": "circle"
         },
         "mode": "markers",
         "name": "STENE",
         "orientation": "v",
         "showlegend": true,
         "type": "scatter",
         "x": [
          "FX",
          "HB",
          "PB",
          "PH",
          "VT"
         ],
         "xaxis": "x",
         "y": [
          12.349499999999999,
          10.183,
          11.2665,
          10.3665,
          13.388333333333334
         ],
         "yaxis": "y"
        },
        {
         "hovertemplate": "LastName=AAS<br>Apparatus=%{x}<br>PredictedScore=%{y}<br>CompetitionsCount=%{marker.size}<extra></extra>",
         "legendgroup": "AAS",
         "marker": {
          "color": "#19d3f3",
          "size": [
           1,
           3,
           2,
           3,
           1,
           1
          ],
          "sizemode": "area",
          "sizeref": 0.025,
          "symbol": "circle"
         },
         "mode": "markers",
         "name": "AAS",
         "orientation": "v",
         "showlegend": true,
         "type": "scatter",
         "x": [
          "FX",
          "HB",
          "PB",
          "PH",
          "SR",
          "VT"
         ],
         "xaxis": "x",
         "y": [
          12.566,
          12.077333333333334,
          11.633,
          11.577333333333334,
          11.866,
          12.966
         ],
         "yaxis": "y"
        },
        {
         "hovertemplate": "LastName=SPONEVIK<br>Apparatus=%{x}<br>PredictedScore=%{y}<br>CompetitionsCount=%{marker.size}<extra></extra>",
         "legendgroup": "SPONEVIK",
         "marker": {
          "color": "#FF6692",
          "size": [
           1,
           4,
           2,
           2,
           4
          ],
          "sizemode": "area",
          "sizeref": 0.025,
          "symbol": "circle"
         },
         "mode": "markers",
         "name": "SPONEVIK",
         "orientation": "v",
         "showlegend": true,
         "type": "scatter",
         "x": [
          "FX",
          "PB",
          "PH",
          "SR",
          "VT"
         ],
         "xaxis": "x",
         "y": [
          12.1,
          12.454,
          12.208,
          12.2915,
          14.22475
         ],
         "yaxis": "y"
        },
        {
         "hovertemplate": "LastName=LEITNER<br>Apparatus=%{x}<br>PredictedScore=%{y}<br>CompetitionsCount=%{marker.size}<extra></extra>",
         "legendgroup": "LEITNER",
         "marker": {
          "color": "#B6E880",
          "size": [
           1
          ],
          "sizemode": "area",
          "sizeref": 0.025,
          "symbol": "circle"
         },
         "mode": "markers",
         "name": "LEITNER",
         "orientation": "v",
         "showlegend": true,
         "type": "scatter",
         "x": [
          "FX"
         ],
         "xaxis": "x",
         "y": [
          11.3
         ],
         "yaxis": "y"
        },
        {
         "hovertemplate": "LastName=FOSSE<br>Apparatus=%{x}<br>PredictedScore=%{y}<br>CompetitionsCount=%{marker.size}<extra></extra>",
         "legendgroup": "FOSSE",
         "marker": {
          "color": "#FF97FF",
          "size": [
           1
          ],
          "sizemode": "area",
          "sizeref": 0.025,
          "symbol": "circle"
         },
         "mode": "markers",
         "name": "FOSSE",
         "orientation": "v",
         "showlegend": true,
         "type": "scatter",
         "x": [
          "FX"
         ],
         "xaxis": "x",
         "y": [
          11.233
         ],
         "yaxis": "y"
        },
        {
         "hovertemplate": "LastName=AMBLIE<br>Apparatus=%{x}<br>PredictedScore=%{y}<br>CompetitionsCount=%{marker.size}<extra></extra>",
         "legendgroup": "AMBLIE",
         "marker": {
          "color": "#FECB52",
          "size": [
           1,
           1
          ],
          "sizemode": "area",
          "sizeref": 0.025,
          "symbol": "circle"
         },
         "mode": "markers",
         "name": "AMBLIE",
         "orientation": "v",
         "showlegend": true,
         "type": "scatter",
         "x": [
          "PB",
          "SR"
         ],
         "xaxis": "x",
         "y": [
          12.5,
          12.866
         ],
         "yaxis": "y"
        },
        {
         "hovertemplate": "LastName=ERICHSEN<br>Apparatus=%{x}<br>PredictedScore=%{y}<br>CompetitionsCount=%{marker.size}<extra></extra>",
         "legendgroup": "ERICHSEN",
         "marker": {
          "color": "#636efa",
          "size": [
           4,
           4
          ],
          "sizemode": "area",
          "sizeref": 0.025,
          "symbol": "circle"
         },
         "mode": "markers",
         "name": "ERICHSEN",
         "orientation": "v",
         "showlegend": true,
         "type": "scatter",
         "x": [
          "UB",
          "VT"
         ],
         "xaxis": "x",
         "y": [
          12.3528,
          12.082875
         ],
         "yaxis": "y"
        },
        {
         "hovertemplate": "LastName=DALENE<br>Apparatus=%{x}<br>PredictedScore=%{y}<br>CompetitionsCount=%{marker.size}<extra></extra>",
         "legendgroup": "DALENE",
         "marker": {
          "color": "#EF553B",
          "size": [
           1
          ],
          "sizemode": "area",
          "sizeref": 0.025,
          "symbol": "circle"
         },
         "mode": "markers",
         "name": "DALENE",
         "orientation": "v",
         "showlegend": true,
         "type": "scatter",
         "x": [
          "VT"
         ],
         "xaxis": "x",
         "y": [
          11.566
         ],
         "yaxis": "y"
        }
       ],
       "layout": {
        "legend": {
         "itemsizing": "constant",
         "title": {
          "text": "LastName"
         },
         "tracegroupgap": 0
        },
        "margin": {
         "t": 60
        },
        "template": {
         "data": {
          "bar": [
           {
            "error_x": {
             "color": "#2a3f5f"
            },
            "error_y": {
             "color": "#2a3f5f"
            },
            "marker": {
             "line": {
              "color": "#E5ECF6",
              "width": 0.5
             },
             "pattern": {
              "fillmode": "overlay",
              "size": 10,
              "solidity": 0.2
             }
            },
            "type": "bar"
           }
          ],
          "barpolar": [
           {
            "marker": {
             "line": {
              "color": "#E5ECF6",
              "width": 0.5
             },
             "pattern": {
              "fillmode": "overlay",
              "size": 10,
              "solidity": 0.2
             }
            },
            "type": "barpolar"
           }
          ],
          "carpet": [
           {
            "aaxis": {
             "endlinecolor": "#2a3f5f",
             "gridcolor": "white",
             "linecolor": "white",
             "minorgridcolor": "white",
             "startlinecolor": "#2a3f5f"
            },
            "baxis": {
             "endlinecolor": "#2a3f5f",
             "gridcolor": "white",
             "linecolor": "white",
             "minorgridcolor": "white",
             "startlinecolor": "#2a3f5f"
            },
            "type": "carpet"
           }
          ],
          "choropleth": [
           {
            "colorbar": {
             "outlinewidth": 0,
             "ticks": ""
            },
            "type": "choropleth"
           }
          ],
          "contour": [
           {
            "colorbar": {
             "outlinewidth": 0,
             "ticks": ""
            },
            "colorscale": [
             [
              0,
              "#0d0887"
             ],
             [
              0.1111111111111111,
              "#46039f"
             ],
             [
              0.2222222222222222,
              "#7201a8"
             ],
             [
              0.3333333333333333,
              "#9c179e"
             ],
             [
              0.4444444444444444,
              "#bd3786"
             ],
             [
              0.5555555555555556,
              "#d8576b"
             ],
             [
              0.6666666666666666,
              "#ed7953"
             ],
             [
              0.7777777777777778,
              "#fb9f3a"
             ],
             [
              0.8888888888888888,
              "#fdca26"
             ],
             [
              1,
              "#f0f921"
             ]
            ],
            "type": "contour"
           }
          ],
          "contourcarpet": [
           {
            "colorbar": {
             "outlinewidth": 0,
             "ticks": ""
            },
            "type": "contourcarpet"
           }
          ],
          "heatmap": [
           {
            "colorbar": {
             "outlinewidth": 0,
             "ticks": ""
            },
            "colorscale": [
             [
              0,
              "#0d0887"
             ],
             [
              0.1111111111111111,
              "#46039f"
             ],
             [
              0.2222222222222222,
              "#7201a8"
             ],
             [
              0.3333333333333333,
              "#9c179e"
             ],
             [
              0.4444444444444444,
              "#bd3786"
             ],
             [
              0.5555555555555556,
              "#d8576b"
             ],
             [
              0.6666666666666666,
              "#ed7953"
             ],
             [
              0.7777777777777778,
              "#fb9f3a"
             ],
             [
              0.8888888888888888,
              "#fdca26"
             ],
             [
              1,
              "#f0f921"
             ]
            ],
            "type": "heatmap"
           }
          ],
          "heatmapgl": [
           {
            "colorbar": {
             "outlinewidth": 0,
             "ticks": ""
            },
            "colorscale": [
             [
              0,
              "#0d0887"
             ],
             [
              0.1111111111111111,
              "#46039f"
             ],
             [
              0.2222222222222222,
              "#7201a8"
             ],
             [
              0.3333333333333333,
              "#9c179e"
             ],
             [
              0.4444444444444444,
              "#bd3786"
             ],
             [
              0.5555555555555556,
              "#d8576b"
             ],
             [
              0.6666666666666666,
              "#ed7953"
             ],
             [
              0.7777777777777778,
              "#fb9f3a"
             ],
             [
              0.8888888888888888,
              "#fdca26"
             ],
             [
              1,
              "#f0f921"
             ]
            ],
            "type": "heatmapgl"
           }
          ],
          "histogram": [
           {
            "marker": {
             "pattern": {
              "fillmode": "overlay",
              "size": 10,
              "solidity": 0.2
             }
            },
            "type": "histogram"
           }
          ],
          "histogram2d": [
           {
            "colorbar": {
             "outlinewidth": 0,
             "ticks": ""
            },
            "colorscale": [
             [
              0,
              "#0d0887"
             ],
             [
              0.1111111111111111,
              "#46039f"
             ],
             [
              0.2222222222222222,
              "#7201a8"
             ],
             [
              0.3333333333333333,
              "#9c179e"
             ],
             [
              0.4444444444444444,
              "#bd3786"
             ],
             [
              0.5555555555555556,
              "#d8576b"
             ],
             [
              0.6666666666666666,
              "#ed7953"
             ],
             [
              0.7777777777777778,
              "#fb9f3a"
             ],
             [
              0.8888888888888888,
              "#fdca26"
             ],
             [
              1,
              "#f0f921"
             ]
            ],
            "type": "histogram2d"
           }
          ],
          "histogram2dcontour": [
           {
            "colorbar": {
             "outlinewidth": 0,
             "ticks": ""
            },
            "colorscale": [
             [
              0,
              "#0d0887"
             ],
             [
              0.1111111111111111,
              "#46039f"
             ],
             [
              0.2222222222222222,
              "#7201a8"
             ],
             [
              0.3333333333333333,
              "#9c179e"
             ],
             [
              0.4444444444444444,
              "#bd3786"
             ],
             [
              0.5555555555555556,
              "#d8576b"
             ],
             [
              0.6666666666666666,
              "#ed7953"
             ],
             [
              0.7777777777777778,
              "#fb9f3a"
             ],
             [
              0.8888888888888888,
              "#fdca26"
             ],
             [
              1,
              "#f0f921"
             ]
            ],
            "type": "histogram2dcontour"
           }
          ],
          "mesh3d": [
           {
            "colorbar": {
             "outlinewidth": 0,
             "ticks": ""
            },
            "type": "mesh3d"
           }
          ],
          "parcoords": [
           {
            "line": {
             "colorbar": {
              "outlinewidth": 0,
              "ticks": ""
             }
            },
            "type": "parcoords"
           }
          ],
          "pie": [
           {
            "automargin": true,
            "type": "pie"
           }
          ],
          "scatter": [
           {
            "fillpattern": {
             "fillmode": "overlay",
             "size": 10,
             "solidity": 0.2
            },
            "type": "scatter"
           }
          ],
          "scatter3d": [
           {
            "line": {
             "colorbar": {
              "outlinewidth": 0,
              "ticks": ""
             }
            },
            "marker": {
             "colorbar": {
              "outlinewidth": 0,
              "ticks": ""
             }
            },
            "type": "scatter3d"
           }
          ],
          "scattercarpet": [
           {
            "marker": {
             "colorbar": {
              "outlinewidth": 0,
              "ticks": ""
             }
            },
            "type": "scattercarpet"
           }
          ],
          "scattergeo": [
           {
            "marker": {
             "colorbar": {
              "outlinewidth": 0,
              "ticks": ""
             }
            },
            "type": "scattergeo"
           }
          ],
          "scattergl": [
           {
            "marker": {
             "colorbar": {
              "outlinewidth": 0,
              "ticks": ""
             }
            },
            "type": "scattergl"
           }
          ],
          "scattermapbox": [
           {
            "marker": {
             "colorbar": {
              "outlinewidth": 0,
              "ticks": ""
             }
            },
            "type": "scattermapbox"
           }
          ],
          "scatterpolar": [
           {
            "marker": {
             "colorbar": {
              "outlinewidth": 0,
              "ticks": ""
             }
            },
            "type": "scatterpolar"
           }
          ],
          "scatterpolargl": [
           {
            "marker": {
             "colorbar": {
              "outlinewidth": 0,
              "ticks": ""
             }
            },
            "type": "scatterpolargl"
           }
          ],
          "scatterternary": [
           {
            "marker": {
             "colorbar": {
              "outlinewidth": 0,
              "ticks": ""
             }
            },
            "type": "scatterternary"
           }
          ],
          "surface": [
           {
            "colorbar": {
             "outlinewidth": 0,
             "ticks": ""
            },
            "colorscale": [
             [
              0,
              "#0d0887"
             ],
             [
              0.1111111111111111,
              "#46039f"
             ],
             [
              0.2222222222222222,
              "#7201a8"
             ],
             [
              0.3333333333333333,
              "#9c179e"
             ],
             [
              0.4444444444444444,
              "#bd3786"
             ],
             [
              0.5555555555555556,
              "#d8576b"
             ],
             [
              0.6666666666666666,
              "#ed7953"
             ],
             [
              0.7777777777777778,
              "#fb9f3a"
             ],
             [
              0.8888888888888888,
              "#fdca26"
             ],
             [
              1,
              "#f0f921"
             ]
            ],
            "type": "surface"
           }
          ],
          "table": [
           {
            "cells": {
             "fill": {
              "color": "#EBF0F8"
             },
             "line": {
              "color": "white"
             }
            },
            "header": {
             "fill": {
              "color": "#C8D4E3"
             },
             "line": {
              "color": "white"
             }
            },
            "type": "table"
           }
          ]
         },
         "layout": {
          "annotationdefaults": {
           "arrowcolor": "#2a3f5f",
           "arrowhead": 0,
           "arrowwidth": 1
          },
          "autotypenumbers": "strict",
          "coloraxis": {
           "colorbar": {
            "outlinewidth": 0,
            "ticks": ""
           }
          },
          "colorscale": {
           "diverging": [
            [
             0,
             "#8e0152"
            ],
            [
             0.1,
             "#c51b7d"
            ],
            [
             0.2,
             "#de77ae"
            ],
            [
             0.3,
             "#f1b6da"
            ],
            [
             0.4,
             "#fde0ef"
            ],
            [
             0.5,
             "#f7f7f7"
            ],
            [
             0.6,
             "#e6f5d0"
            ],
            [
             0.7,
             "#b8e186"
            ],
            [
             0.8,
             "#7fbc41"
            ],
            [
             0.9,
             "#4d9221"
            ],
            [
             1,
             "#276419"
            ]
           ],
           "sequential": [
            [
             0,
             "#0d0887"
            ],
            [
             0.1111111111111111,
             "#46039f"
            ],
            [
             0.2222222222222222,
             "#7201a8"
            ],
            [
             0.3333333333333333,
             "#9c179e"
            ],
            [
             0.4444444444444444,
             "#bd3786"
            ],
            [
             0.5555555555555556,
             "#d8576b"
            ],
            [
             0.6666666666666666,
             "#ed7953"
            ],
            [
             0.7777777777777778,
             "#fb9f3a"
            ],
            [
             0.8888888888888888,
             "#fdca26"
            ],
            [
             1,
             "#f0f921"
            ]
           ],
           "sequentialminus": [
            [
             0,
             "#0d0887"
            ],
            [
             0.1111111111111111,
             "#46039f"
            ],
            [
             0.2222222222222222,
             "#7201a8"
            ],
            [
             0.3333333333333333,
             "#9c179e"
            ],
            [
             0.4444444444444444,
             "#bd3786"
            ],
            [
             0.5555555555555556,
             "#d8576b"
            ],
            [
             0.6666666666666666,
             "#ed7953"
            ],
            [
             0.7777777777777778,
             "#fb9f3a"
            ],
            [
             0.8888888888888888,
             "#fdca26"
            ],
            [
             1,
             "#f0f921"
            ]
           ]
          },
          "colorway": [
           "#636efa",
           "#EF553B",
           "#00cc96",
           "#ab63fa",
           "#FFA15A",
           "#19d3f3",
           "#FF6692",
           "#B6E880",
           "#FF97FF",
           "#FECB52"
          ],
          "font": {
           "color": "#2a3f5f"
          },
          "geo": {
           "bgcolor": "white",
           "lakecolor": "white",
           "landcolor": "#E5ECF6",
           "showlakes": true,
           "showland": true,
           "subunitcolor": "white"
          },
          "hoverlabel": {
           "align": "left"
          },
          "hovermode": "closest",
          "mapbox": {
           "style": "light"
          },
          "paper_bgcolor": "white",
          "plot_bgcolor": "#E5ECF6",
          "polar": {
           "angularaxis": {
            "gridcolor": "white",
            "linecolor": "white",
            "ticks": ""
           },
           "bgcolor": "#E5ECF6",
           "radialaxis": {
            "gridcolor": "white",
            "linecolor": "white",
            "ticks": ""
           }
          },
          "scene": {
           "xaxis": {
            "backgroundcolor": "#E5ECF6",
            "gridcolor": "white",
            "gridwidth": 2,
            "linecolor": "white",
            "showbackground": true,
            "ticks": "",
            "zerolinecolor": "white"
           },
           "yaxis": {
            "backgroundcolor": "#E5ECF6",
            "gridcolor": "white",
            "gridwidth": 2,
            "linecolor": "white",
            "showbackground": true,
            "ticks": "",
            "zerolinecolor": "white"
           },
           "zaxis": {
            "backgroundcolor": "#E5ECF6",
            "gridcolor": "white",
            "gridwidth": 2,
            "linecolor": "white",
            "showbackground": true,
            "ticks": "",
            "zerolinecolor": "white"
           }
          },
          "shapedefaults": {
           "line": {
            "color": "#2a3f5f"
           }
          },
          "ternary": {
           "aaxis": {
            "gridcolor": "white",
            "linecolor": "white",
            "ticks": ""
           },
           "baxis": {
            "gridcolor": "white",
            "linecolor": "white",
            "ticks": ""
           },
           "bgcolor": "#E5ECF6",
           "caxis": {
            "gridcolor": "white",
            "linecolor": "white",
            "ticks": ""
           }
          },
          "title": {
           "x": 0.05
          },
          "xaxis": {
           "automargin": true,
           "gridcolor": "white",
           "linecolor": "white",
           "ticks": "",
           "title": {
            "standoff": 15
           },
           "zerolinecolor": "white",
           "zerolinewidth": 2
          },
          "yaxis": {
           "automargin": true,
           "gridcolor": "white",
           "linecolor": "white",
           "ticks": "",
           "title": {
            "standoff": 15
           },
           "zerolinecolor": "white",
           "zerolinewidth": 2
          }
         }
        },
        "title": {
         "text": "Scatterplot of Gymnasts' MaxScore For Different Apparatus"
        },
        "xaxis": {
         "anchor": "y",
         "domain": [
          0,
          1
         ],
         "title": {
          "text": "Apparatus"
         }
        },
        "yaxis": {
         "anchor": "x",
         "domain": [
          0,
          1
         ],
         "title": {
          "text": "Max Score of Gymnasts"
         }
        }
       }
      }
     },
     "metadata": {},
     "output_type": "display_data"
    }
   ],
   "source": [
    "import plotly\n",
    "from plotly import express as px\n",
    "import plotly.io as pio\n",
    "\n",
    "fig = px.scatter(df,\n",
    "            x = \"Apparatus\", \n",
    "            y = \"PredictedScore\", \n",
    "            color=\"LastName\",\n",
    "            size='CompetitionsCount', hover_data=['PredictedScore'])\n",
    "\n",
    "\n",
    "fig.update_layout(\n",
    "    title=f\"Scatterplot of Gymnasts' MaxScore For Different Apparatus\", #The colorbar and overall plot have professional titles.\n",
    "    yaxis_title=\"Max Score of Gymnasts\",\n",
    "    )\n",
    "\n",
    "\n",
    "fig.show()"
   ]
  }
 ],
 "metadata": {
  "kernelspec": {
   "display_name": "PIC16B-25W",
   "language": "python",
   "name": "python3"
  },
  "language_info": {
   "codemirror_mode": {
    "name": "ipython",
    "version": 3
   },
   "file_extension": ".py",
   "mimetype": "text/x-python",
   "name": "python",
   "nbconvert_exporter": "python",
   "pygments_lexer": "ipython3",
   "version": "3.11.6"
  }
 },
 "nbformat": 4,
 "nbformat_minor": 2
}
